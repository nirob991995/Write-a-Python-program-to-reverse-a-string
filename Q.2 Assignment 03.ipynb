{
 "cells": [
  {
   "cell_type": "markdown",
   "id": "5e568a63",
   "metadata": {},
   "source": [
    "## Write a Python program to reverse a string.\n",
    "\n",
    "\n",
    "\n",
    "﻿Sample String : \"1234abcd\"\n",
    "\n",
    "Expected Output : \"dcba4321\""
   ]
  },
  {
   "cell_type": "code",
   "execution_count": 1,
   "id": "979c24ac",
   "metadata": {},
   "outputs": [
    {
     "name": "stdout",
     "output_type": "stream",
     "text": [
      "Enter any string of your choice :- 1234abcd\n",
      "The reverse string :- dcba4321\n"
     ]
    }
   ],
   "source": [
    "# approach 1\n",
    "def reverse_of_string(sample_string):\n",
    "    reverse_string = sample_string[::-1]         # using slicing to reverse the string\n",
    "    return (reverse_string)\n",
    "sample_string = input(\"Enter any string of your choice :- \")     # taking an input from user \n",
    "str = reverse_of_string(sample_string)\n",
    "print(f\"The reverse string :- {str}\")    # using f-string inside print()"
   ]
  },
  {
   "cell_type": "code",
   "execution_count": 2,
   "id": "08dc912f",
   "metadata": {},
   "outputs": [
    {
     "name": "stdout",
     "output_type": "stream",
     "text": [
      "Enter any string of your choice :- 1234abcd\n",
      "The reverse string :- dcba4321\n"
     ]
    }
   ],
   "source": [
    "# approach 2\n",
    "def reverse_of_string(sample_string):\n",
    "    reverse_string = \"\".join(reversed(sample_string))          # using reversed function with join() for string\n",
    "    return (reverse_string)\n",
    "sample_string = input(\"Enter any string of your choice :- \")     # taking an input from user \n",
    "str = reverse_of_string(sample_string)\n",
    "print(f\"The reverse string :- {str}\")    # using f-string inside print()"
   ]
  },
  {
   "cell_type": "code",
   "execution_count": 3,
   "id": "0f9b0da3",
   "metadata": {},
   "outputs": [
    {
     "name": "stdout",
     "output_type": "stream",
     "text": [
      "Enter any string of your choice :- 1234abcd\n",
      "The reverse string :- dcba4321 \n"
     ]
    }
   ],
   "source": [
    "# approach 3\n",
    "def reverse_of_string(sample_string):\n",
    "    reverse_string =\" \"\n",
    "    for i in sample_string:                    # using for loop \n",
    "        reverse_string = i + reverse_string   # using iterator first to get reverse order                                \n",
    "    return (reverse_string)\n",
    "sample_string = input(\"Enter any string of your choice :- \")     # taking an input from user \n",
    "str = reverse_of_string(sample_string)\n",
    "print(f\"The reverse string :- {str}\")    # using f-string inside print()"
   ]
  },
  {
   "cell_type": "code",
   "execution_count": 4,
   "id": "2b0838b8",
   "metadata": {},
   "outputs": [
    {
     "name": "stdout",
     "output_type": "stream",
     "text": [
      "Enter any string of your choice :- 1234abcd\n",
      "dcba4321"
     ]
    }
   ],
   "source": [
    "# approach 4\n",
    "def reverse_of_string(sample_string):\n",
    "    for i in reversed(sample_string):   # using reversed function\n",
    "        print(i, end=\"\")\n",
    "sample_string = input(\"Enter any string of your choice :- \")     # taking an input from user \n",
    "reverse_of_string(sample_string)"
   ]
  },
  {
   "cell_type": "code",
   "execution_count": 5,
   "id": "19d5dc46",
   "metadata": {},
   "outputs": [
    {
     "name": "stdout",
     "output_type": "stream",
     "text": [
      "Enter any string of your choice :- 1234abcd\n",
      "The reverse string :-  dcba4321\n"
     ]
    }
   ],
   "source": [
    "# approach 5\n",
    "def reverse_of_string(sample_string):\n",
    "    reverse_string =\" \"\n",
    "    i = len(sample_string)                    # using while loop \n",
    "    while i > 0:\n",
    "        reverse_string += sample_string[i-1] \n",
    "        i-=1                                       # using decrement iterator                               \n",
    "    return (reverse_string)\n",
    "sample_string = input(\"Enter any string of your choice :- \")     # taking an input from user \n",
    "str = reverse_of_string(sample_string)\n",
    "print(f\"The reverse string :- {str}\")    # using f-string inside print()\n"
   ]
  },
  {
   "cell_type": "code",
   "execution_count": null,
   "id": "fbddeec3",
   "metadata": {},
   "outputs": [],
   "source": []
  },
  {
   "cell_type": "code",
   "execution_count": null,
   "id": "620e7915",
   "metadata": {},
   "outputs": [],
   "source": []
  }
 ],
 "metadata": {
  "kernelspec": {
   "display_name": "Python 3 (ipykernel)",
   "language": "python",
   "name": "python3"
  },
  "language_info": {
   "codemirror_mode": {
    "name": "ipython",
    "version": 3
   },
   "file_extension": ".py",
   "mimetype": "text/x-python",
   "name": "python",
   "nbconvert_exporter": "python",
   "pygments_lexer": "ipython3",
   "version": "3.8.9"
  }
 },
 "nbformat": 4,
 "nbformat_minor": 5
}
